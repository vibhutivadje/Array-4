{
 "cells": [
  {
   "cell_type": "markdown",
   "metadata": {},
   "source": [
    "Given an integer array nums, find the contiguous subarray (containing at least one number) which has the largest sum \n",
    "and return its sum.\n",
    "\n",
    "Example 1:\n",
    "    Input: nums = [-2,1,-3,4,-1,2,1,-5,4]\n",
    "    Output: 6\n",
    "    Explanation: [4,-1,2,1] has the largest sum = 6.\n",
    "        "
   ]
  },
  {
   "cell_type": "code",
   "execution_count": 13,
   "metadata": {},
   "outputs": [
    {
     "data": {
      "text/plain": [
       "6"
      ]
     },
     "execution_count": 13,
     "metadata": {},
     "output_type": "execute_result"
    }
   ],
   "source": [
    "def maxSubArray(nums):\n",
    "    \n",
    "    maxsum = nums[0]\n",
    "    for i in range(len(nums)-1):\n",
    "        sum_t=0\n",
    "        \n",
    "        for j in range(i,len(nums)):\n",
    "            sum_t = sum_t + nums[j]\n",
    "            maxsum = max(maxsum, sum_t)\n",
    "    return maxsum\n",
    "    \n",
    "maxSubArray(nums = [-2,1,-3,4,-1,2,1,-5,4])"
   ]
  },
  {
   "cell_type": "markdown",
   "metadata": {},
   "source": [
    "# Optimised Solution:"
   ]
  },
  {
   "cell_type": "code",
   "execution_count": null,
   "metadata": {},
   "outputs": [],
   "source": [
    "class Solution:\n",
    "    def maxSubArray1(nums):\n",
    "        \n",
    "        #base condition\n",
    "        if len(nums)==0:\n",
    "            return []\n",
    "        \n",
    "        n = len(nums)\n",
    "        curr_sum = nums[0]\n",
    "        max_sum = nums[0]\n",
    "        \n",
    "        for i in range(1, len(nums)):\n",
    "            curr_sum = max(nums[i], curr_sum+nums[i])\n",
    "            max_sum = max(max_sum, curr_sum)\n",
    "        \n",
    "        return max_sum\n",
    "        \n",
    "obj = Solution\n",
    "print(obj.maxSubArray1(nums=[-2,1,-3,4,-1,2,1,-5,4]))\n",
    "\n",
    "#Time Complexity : O(n)\n",
    "#Space Complexity: O(1)\n"
   ]
  },
  {
   "cell_type": "code",
   "execution_count": null,
   "metadata": {},
   "outputs": [],
   "source": []
  }
 ],
 "metadata": {
  "kernelspec": {
   "display_name": "Python 3",
   "language": "python",
   "name": "python3"
  },
  "language_info": {
   "codemirror_mode": {
    "name": "ipython",
    "version": 3
   },
   "file_extension": ".py",
   "mimetype": "text/x-python",
   "name": "python",
   "nbconvert_exporter": "python",
   "pygments_lexer": "ipython3",
   "version": "3.7.7"
  }
 },
 "nbformat": 4,
 "nbformat_minor": 4
}
