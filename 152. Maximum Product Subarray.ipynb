{
 "cells": [
  {
   "cell_type": "markdown",
   "metadata": {},
   "source": [
    "# Problem: https://leetcode.com/problems/maximum-product-subarray/"
   ]
  },
  {
   "cell_type": "markdown",
   "metadata": {},
   "source": [
    "Given an integer array nums, find the contiguous subarray within an array (containing at least one number) which has \n",
    "the largest product.\n",
    "\n",
    "Example 1:\n",
    "    Input: [2,3,-2,4]\n",
    "    Output: 6\n",
    "    Explanation: [2,3] has the largest product 6."
   ]
  },
  {
   "cell_type": "markdown",
   "metadata": {},
   "source": [
    "# Solution-1"
   ]
  },
  {
   "cell_type": "code",
   "execution_count": 2,
   "metadata": {},
   "outputs": [
    {
     "name": "stdout",
     "output_type": "stream",
     "text": [
      "6\n"
     ]
    }
   ],
   "source": [
    "class Solution:\n",
    "    def maxProduct(nums):\n",
    "        \n",
    "        #base condition\n",
    "        if len(nums) ==0:\n",
    "            return 0\n",
    "        \n",
    "        result = nums[0]\n",
    "        \n",
    "        for i in range(len(nums)):\n",
    "            multi = 1\n",
    "            for j in range(0,len(nums)):\n",
    "                multi*=nums[j]\n",
    "                result = max(result,multi)\n",
    "                    \n",
    "        return result\n",
    "        \n",
    "        \n",
    "        \n",
    "obj = Solution\n",
    "print(obj.maxProduct(nums=[2,3,-2,4]))\n",
    "#Time Complexity : O(n-square)\n",
    "#space Complexity: O(1)"
   ]
  },
  {
   "cell_type": "markdown",
   "metadata": {},
   "source": [
    "# Solution- 2 : Optimised Solution"
   ]
  },
  {
   "cell_type": "code",
   "execution_count": 4,
   "metadata": {},
   "outputs": [
    {
     "name": "stdout",
     "output_type": "stream",
     "text": [
      "6\n"
     ]
    }
   ],
   "source": [
    "class Solution:\n",
    "    def maxProduct(nums):\n",
    "        \n",
    "        #base condition\n",
    "        if len(nums) ==0:\n",
    "            return 0\n",
    "        \n",
    "        curr_max = nums[0]\n",
    "        curr_min = nums[0]\n",
    "        ans= nums[0]\n",
    "        prev_max = nums[0]\n",
    "        prev_min = nums[0]\n",
    "        \n",
    "        for i in range(1, len(nums)):\n",
    "            curr_max = max(prev_max*nums[i], prev_min*nums[i], nums[i])\n",
    "            curr_min = min(prev_max*nums[i], prev_min*nums[i], nums[i])\n",
    "            ans = max(ans, curr_max)\n",
    "            prev_max = curr_max\n",
    "            prev_min = curr_min\n",
    "            \n",
    "        return ans\n",
    "    \n",
    "obj = Solution\n",
    "print(obj.maxProduct(nums=[2,3,-2,4]))\n",
    "#Time Complexity : \n",
    "#space Complexity: "
   ]
  },
  {
   "cell_type": "code",
   "execution_count": null,
   "metadata": {},
   "outputs": [],
   "source": [
    "Explanation: https://www.youtube.com/watch?v=vtJvbRlHqTA  "
   ]
  },
  {
   "cell_type": "code",
   "execution_count": null,
   "metadata": {},
   "outputs": [],
   "source": []
  }
 ],
 "metadata": {
  "kernelspec": {
   "display_name": "Python 3",
   "language": "python",
   "name": "python3"
  },
  "language_info": {
   "codemirror_mode": {
    "name": "ipython",
    "version": 3
   },
   "file_extension": ".py",
   "mimetype": "text/x-python",
   "name": "python",
   "nbconvert_exporter": "python",
   "pygments_lexer": "ipython3",
   "version": "3.7.7"
  }
 },
 "nbformat": 4,
 "nbformat_minor": 4
}
